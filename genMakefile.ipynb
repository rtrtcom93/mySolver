{
 "cells": [
  {
   "cell_type": "code",
   "execution_count": 1,
   "metadata": {},
   "outputs": [],
   "source": [
    "import os\n",
    "import argparse\n",
    "\n",
    "compiler_type = {\n",
    "    'gnu': {'cpp':'g++', 'c':'gcc', 'fortran':'gfortran'},\n",
    "    'clang': {'cpp':'clang++', 'c':'clang', 'fortran':'flang'},\n",
    "    'intel': {'cpp':'icpc', 'c':'icc', 'fortran':'ifort'},\n",
    "}"
   ]
  },
  {
   "cell_type": "code",
   "execution_count": 2,
   "metadata": {},
   "outputs": [],
   "source": [
    "macro_variable = { 'cpp':'CXX', 'c':'CC', 'fortran':'FC' }\n",
    "default_lang_spec = {'cpp':'c++11', 'c':'c99', 'fortran':'f95'}\n",
    "default_lang_ext = {'cpp':'cpp', 'c':'c', 'fortran':'f90'}"
   ]
  },
  {
   "cell_type": "code",
   "execution_count": 4,
   "metadata": {},
   "outputs": [
    {
     "name": "stderr",
     "output_type": "stream",
     "text": [
      "usage: ipykernel_launcher.py [-h] [-l <language>] [-c <compiler-type>]\n",
      "                             [-s <language spec>] [--shared | --static] [-d]\n",
      "                             [-e <file extension>] [-o <output>]\n",
      "ipykernel_launcher.py: error: unrecognized arguments: --f=c:\\Users\\choij\\AppData\\Roaming\\jupyter\\runtime\\kernel-v2-7652Y4sKL7c5gAxu.json\n"
     ]
    },
    {
     "ename": "SystemExit",
     "evalue": "2",
     "output_type": "error",
     "traceback": [
      "An exception has occurred, use %tb to see the full traceback.\n",
      "\u001b[1;31mSystemExit\u001b[0m\u001b[1;31m:\u001b[0m 2\n"
     ]
    }
   ],
   "source": [
    "if __name__ == '__main__':\n",
    "    parser = argparse.ArgumentParser()\n",
    "    parser.add_argument('-l', '--lang', metavar='<language>', dest='lang', default='cpp', choices=['cpp', 'c', 'fortran'],\n",
    "        help='programming language. available list is cpp, c, fortran. default is cpp')\n",
    "    parser.add_argument('-c', '--compiler-type', metavar='<compiler-type>', dest='type', default='gnu',\n",
    "        choices=['gnu', 'clang', 'intel'], help='compiler type. available list is gnu, clang, intel. default is gnu')\n",
    "    parser.add_argument('-s', '--spec', metavar='<language spec>', dest='spec',\n",
    "        help='language spec. default is c++11 for cpp, c99 for c and f90 for fortran')\n",
    "    group = parser.add_mutually_exclusive_group()\n",
    "    group.add_argument('--shared', action='store_true', dest='shared', help='shared library')\n",
    "    group.add_argument('--static', action='store_true', dest='static', help='static library')\n",
    "    parser.add_argument('-d', '--debug', action='store_true', help='turn on debug flag')\n",
    "    parser.add_argument('-e', '--ext', metavar='<file extension>', dest='ext',\n",
    "        help='file extension for source codes. default is cpp for cpp, c for c and f95 for fortran')\n",
    "    parser.add_argument('-o', '--output', metavar='<output>', dest='out', default='main',\n",
    "        help='output file name without extension')\n",
    "\n",
    "    args = parser.parse_args()"
   ]
  },
  {
   "cell_type": "code",
   "execution_count": 3,
   "metadata": {},
   "outputs": [
    {
     "name": "stderr",
     "output_type": "stream",
     "text": [
      "usage: ipykernel_launcher.py [-h] [-l <language>] [-c <compiler-type>]\n",
      "                             [-s <language spec>] [--shared | --static] [-d]\n",
      "                             [-e <file extension>] [-o <output>]\n",
      "ipykernel_launcher.py: error: unrecognized arguments: --f=c:\\Users\\choij\\AppData\\Roaming\\jupyter\\runtime\\kernel-v2-7652Y4sKL7c5gAxu.json\n"
     ]
    },
    {
     "ename": "SystemExit",
     "evalue": "2",
     "output_type": "error",
     "traceback": [
      "An exception has occurred, use %tb to see the full traceback.\n",
      "\u001b[1;31mSystemExit\u001b[0m\u001b[1;31m:\u001b[0m 2\n"
     ]
    },
    {
     "name": "stderr",
     "output_type": "stream",
     "text": [
      "c:\\Users\\choij\\.conda\\envs\\python_lec\\Lib\\site-packages\\IPython\\core\\interactiveshell.py:3513: UserWarning: To exit: use 'exit', 'quit', or Ctrl-D.\n",
      "  warn(\"To exit: use 'exit', 'quit', or Ctrl-D.\", stacklevel=1)\n"
     ]
    }
   ],
   "source": [
    "\n",
    "\n",
    "if args.ext is not None:\n",
    "    ext = args.ext\n",
    "else:\n",
    "    ext = default_lang_ext[args.lang]\n",
    "    \n",
    "sources = [f for f in os.listdir('.') if os.path.isfile(f) and f.endswith(ext)]\n",
    "lines = []\n",
    "lines.append('{0} = {1}'.format(macro_variable[args.lang], compiler_type[args.type][args.lang]))\n",
    "if args.spec is not None:\n",
    "    if args.type == 'intel' and args.lang == 'fortran':\n",
    "        lines.append('{0}FLAGS = {1}'.format(macro_variable[args.lang], '-std{0}'.format(args.spec[1:])))\n",
    "    else:\n",
    "        lines.append('{0}FLAGS = {1}'.format(macro_variable[args.lang], '-std={0}'.format(args.spec)))\n",
    "else:\n",
    "    if args.type == 'intel' and args.lang == 'fortran':\n",
    "        lines.append('{0}FLAGS = {1}'.format(macro_variable[args.lang],\n",
    "            '-std{0}'.format(default_lang_spec[args.lang][1:])))\n",
    "    else:\n",
    "        lines.append('{0}FLAGS = {1}'.format(macro_variable[args.lang],\n",
    "            '-std={0}'.format(default_lang_spec[args.lang])))\n",
    "\n",
    "if args.shared:\n",
    "    lines[-1] += (' -shared -fPIC')\n",
    "\n",
    "if args.debug:\n",
    "    lines[-1] += ' -g'\n",
    " \n",
    "lines.append('LDFLAGS =')\n",
    "lines.append('INCLUDE = -I.')\n",
    "lines.append('LIB = -L.')\n",
    "lines.append('SRC =')\n",
    "for source in sources:\n",
    "    lines[-1] += ' ' + source\n",
    "lines.append('OBJ = $(SRC:%.{0}=%.o)'.format(ext))\n",
    "prefix = ''\n",
    "postfix = 'exe'\n",
    "if args.shared:\n",
    "    prefix = 'lib'\n",
    "    postfix = 'so'\n",
    "elif args.static:\n",
    "    prefix = 'lib'\n",
    "    postfix = 'a'\n",
    "\n",
    "lines.append('OUT = {0}{1}.{2}\\n'.format(prefix, args.out, postfix))\n",
    "lines.append('%.o:%.{0}'.format(ext))\n",
    "lines.append('\\t$({0}) $({0}FLAGS) $(INCLUDE) -c $<\\n'.format(macro_variable[args.lang]))\n",
    "lines.append('all:build\\n')\n",
    "lines.append('build:$(OBJ)')\n",
    "if not args.static:\n",
    "    lines.append('\\t$({0}) $({0}FLAGS) $(INCLUDE) -o $(OUT) $^ $(LDFLAGS) $(LIB)\\n'.format(macro_variable[args.lang]))\n",
    "else:\n",
    "    lines.append('\\tar rcs $(OUT) $^\\n')\n",
    "\n",
    "lines.append('clean:')\n",
    "lines.append('\\trm -f $(OBJ) $(OUT)\\n')\n",
    "lines.append('.PHONY:all build clean')\n",
    "\n",
    "with open('Makefile', 'w') as fp:\n",
    "    for line in lines:\n",
    "        fp.write(line+'\\n')"
   ]
  }
 ],
 "metadata": {
  "kernelspec": {
   "display_name": "python_lec",
   "language": "python",
   "name": "python3"
  },
  "language_info": {
   "codemirror_mode": {
    "name": "ipython",
    "version": 3
   },
   "file_extension": ".py",
   "mimetype": "text/x-python",
   "name": "python",
   "nbconvert_exporter": "python",
   "pygments_lexer": "ipython3",
   "version": "3.11.2"
  }
 },
 "nbformat": 4,
 "nbformat_minor": 2
}
